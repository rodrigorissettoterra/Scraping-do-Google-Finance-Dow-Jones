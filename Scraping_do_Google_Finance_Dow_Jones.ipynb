{
  "nbformat": 4,
  "nbformat_minor": 0,
  "metadata": {
    "colab": {
      "provenance": [],
      "toc_visible": true,
      "authorship_tag": "ABX9TyNnMfF4ZtmaseaRqLj91hli",
      "include_colab_link": true
    },
    "kernelspec": {
      "name": "python3",
      "display_name": "Python 3"
    },
    "language_info": {
      "name": "python"
    }
  },
  "cells": [
    {
      "cell_type": "markdown",
      "metadata": {
        "id": "view-in-github",
        "colab_type": "text"
      },
      "source": [
        "<a href=\"https://colab.research.google.com/github/rodrigorissettoterra/Scraping-do-Google-Finance-Dow-Jones/blob/main/Scraping_do_Google_Finance_Dow_Jones.ipynb\" target=\"_parent\"><img src=\"https://colab.research.google.com/assets/colab-badge.svg\" alt=\"Open In Colab\"/></a>"
      ]
    },
    {
      "cell_type": "markdown",
      "source": [
        "#Referência"
      ],
      "metadata": {
        "id": "18SnCkUnCUO3"
      }
    },
    {
      "cell_type": "markdown",
      "source": [
        "O site utilizado para a realização deste trabalho é Google Finance, mais especificamente a página de informaçoes sobre um dos principais índices da bolsa de valores norte-americana, **Dow Jones** (EUA)."
      ],
      "metadata": {
        "id": "ZJPSX0bTB1Mz"
      }
    },
    {
      "cell_type": "markdown",
      "source": [
        "#Preparando o ambiente"
      ],
      "metadata": {
        "id": "JZWlwXavCiXa"
      }
    },
    {
      "cell_type": "markdown",
      "source": [
        "##Importando as bibliotecas necessárias"
      ],
      "metadata": {
        "id": "ER1K0pNgZcDT"
      }
    },
    {
      "cell_type": "code",
      "source": [
        "from urllib.request import Request, urlopen\n",
        "from urllib.error import URLError, HTTPError\n",
        "from bs4 import BeautifulSoup"
      ],
      "metadata": {
        "id": "T2cBQh5lZcf8"
      },
      "execution_count": 1,
      "outputs": []
    },
    {
      "cell_type": "markdown",
      "source": [
        "##Obtendo o HTML da página"
      ],
      "metadata": {
        "id": "UMQQ5PQtY8E8"
      }
    },
    {
      "cell_type": "code",
      "source": [
        "url = 'https://www.google.com/finance/?hl=pt'\n",
        "response = urlopen(url)\n",
        "html = response.read().decode('utf-8')\n",
        "soup = BeautifulSoup(html, 'html.parser')"
      ],
      "metadata": {
        "id": "Vk8ttUeeZpBv"
      },
      "execution_count": 2,
      "outputs": []
    },
    {
      "cell_type": "markdown",
      "source": [
        "##Mostrando o título da página"
      ],
      "metadata": {
        "id": "9HoClR6PlYNA"
      }
    },
    {
      "cell_type": "code",
      "source": [
        "print(\"O título da página é:\",soup.title.text)"
      ],
      "metadata": {
        "colab": {
          "base_uri": "https://localhost:8080/"
        },
        "id": "QVRsH11vlb8l",
        "outputId": "1de49f30-3967-4b86-e077-69c2b4ed113a"
      },
      "execution_count": 3,
      "outputs": [
        {
          "output_type": "stream",
          "name": "stdout",
          "text": [
            "O título da página é: Google Finanças: preços da bolsa de valores, cotações em tempo real e notícias sobre o mercado financeiro\n"
          ]
        }
      ]
    },
    {
      "cell_type": "markdown",
      "source": [
        "#Obtendo os dados gerais do primeiro card "
      ],
      "metadata": {
        "id": "CQ9jaQjufxOK"
      }
    },
    {
      "cell_type": "code",
      "source": [
        "cartao_bolsa = soup.find('div', {'class':'vReuC GEykwb'})\n",
        "cartao_bolsa"
      ],
      "metadata": {
        "colab": {
          "base_uri": "https://localhost:8080/"
        },
        "id": "MYx-yd6jfzn_",
        "outputId": "897e0d25-ab8c-4a0a-da17-c8e83187fe24"
      },
      "execution_count": 4,
      "outputs": [
        {
          "output_type": "execute_result",
          "data": {
            "text/plain": [
              "<div class=\"vReuC GEykwb\"><span class=\"hEj6ke\"><div class=\"tGqfud\" jsname=\"VORjKe\"><div class=\"n1rUf uoQxH\"><span aria-hidden=\"true\" class=\"ZoIEk uoQxH\"><svg class=\" NMm5M\" focusable=\"false\" height=\"16\" viewbox=\"0 0 24 24\" width=\"16\"><path d=\"M4 12l1.41 1.41L11 7.83V20h2V7.83l5.58 5.59L20 12l-8-8-8 8z\"></path></svg></span></div></div></span><div class=\"VKMjFc\"><div class=\"pKBk1e\">Dow Jones</div><div class=\"wzUQBf\"><span class=\"lh92\"><div class=\"s1OkXb\" jsname=\"ip75Cb\"><div class=\"YMlKec\">34.589,77</div></div></span></div></div><div class=\"T7Akdb\"><span aria-label=\"Aumentou 2,18%\" class=\"NydbP a3qxNc\" data-disable-percent-toggle=\"true\" data-multiplier-for-price-change=\"1\" jsaction=\"\" jsname=\"p08n3b\"><div class=\"zWwE1 Ez2Ioe P2Luy t5mBV\" jsname=\"m6NnIb\"><div class=\"JwB6zf V7hZne\" style=\"font-size: 12px;\">+2,18%</div></div></span><div class=\"SEGxAb\" style=\"height: 16px;\"><div class=\"BAftM\" data-animation-size=\"16\" jsname=\"vY9t3b\" style=\"transform: translateY(calc(-100% + 16px));\"><span class=\"P2Luy Ez2Ioe\">+737,24</span></div></div></div></div>"
            ]
          },
          "metadata": {},
          "execution_count": 4
        }
      ]
    },
    {
      "cell_type": "markdown",
      "source": [
        "##Dados específicos do primeiro card"
      ],
      "metadata": {
        "id": "_7syJMY3pErF"
      }
    },
    {
      "cell_type": "markdown",
      "source": [
        "###Texto da Wikipedia"
      ],
      "metadata": {
        "id": "xj77M3lbxwkd"
      }
    },
    {
      "cell_type": "markdown",
      "source": [
        "Esse item é apenas se necessitarmos de um texto informativo"
      ],
      "metadata": {
        "id": "KXQxFYQG8g4R"
      }
    },
    {
      "cell_type": "code",
      "source": [
        "url2 = 'https://pt.wikipedia.org/wiki/Dow_Jones_Industrial_Average'\n",
        "response2 = urlopen(url2)\n",
        "html2 = response2.read().decode('utf-8')\n",
        "texto_wikipedia = BeautifulSoup(html2, 'html.parser')\n",
        "\n",
        "texto_da_bolsa = texto_wikipedia.find('div', {'class':'mw-body-content mw-content-ltr'}).getText()\n",
        "texto_da_bolsa"
      ],
      "metadata": {
        "colab": {
          "base_uri": "https://localhost:8080/",
          "height": 142
        },
        "id": "Gc-oBtrAxUcr",
        "outputId": "583152ee-a6c7-48c6-935a-634fdb86fada"
      },
      "execution_count": 5,
      "outputs": [
        {
          "output_type": "execute_result",
          "data": {
            "text/plain": [
              "' Índice Dow Jones.\\nDow Jones Industrial Average, também conhecido como DJIA, INDP, Dow 30 ou Dow Jones, é um índice criado em 1896 pelo editor do The Wall Street Journal e fundador do Dow Jones & Company, Charles Dow. É o segundo mais antigo índice dos Estados Unidos, depois do Dow Jones Transportation Average (DJTA) - (\"Índice de transporte Dow Jones\").\\nO índice Dow Jones Industrial Average (DJIA) é ao lado do Nasdaq Composite e do S&P 500 um dos principais indicadores dos movimentos do mercado norte-americano. Dos três indicadores, DJIA é o mais largamente publicado e discutido.\\nO cálculo deste índice é bastante simples e é baseado na cotação das ações de 30 das maiores e mais importantes empresas dos Estados Unidos.\\nComo o índice não é calculado pela Bolsa de Valores de Nova Iorque (New York Stock Exchange), seus componentes são escolhidos pelos editores do jornal financeiro norte-americano The Wall Street Journal. Não existe nenhum critério pré-determinado, a não ser que os componentes sejam companhias norte-americanas líderes em seus segmentos de mercado.\\n\\n\\nHistórico[editar | editar código-fonte]\\nQuando foi criado em 1896, o índice DJIA representava a média simples de 12 empresas americanas de grande importância e seu valor inicial foi de 40,94 pontos.\\nEm 30 de julho de 1914, quando a Bolsa de Valores de Nova York fechou por quatro meses em decorrência da I Guerra Mundial o índice DJIA ficou estagnado em 71,42 pontos. No momento em que a bolsa reabriu em 12 de dezembro do mesmo ano, o índice sofreu uma queda de 24,39%, fechando com o valor de 54 pontos.\\nEm 1916 o número de empresas componentes do índice foi aumentado para vinte. Finalmente o número de empresas componentes foi aumentado para trinta em 1928 em um momento em que as ações estavam se aproximando de seu valor máximo, logo antes da crise de 1929.\\nCom a crise de 1929 e a grande depressão que se seguiu, o índice que chegou a valer 381,17 pontos em 03 de setembro de 1929 retornou ao seu ponto de partida, chegando ao valor mínimo de 40,56 e fechando em 41,22 em 08 de julho de 1932. O maior ganho percentual do índice em um único dia, de 14,34%, ocorreu em 15 de março de 1933 no período de baixa perspectiva de mercado na depressão que seguiu a crise de 1929.\\nApós a II Guerra Mundial, um período de alta perspectiva de mercado levou o índice a ultrapassar o valor de 381,17 pontos anterior à crise de 29 em 1954 que continuou subindo até 1966.\\nEm 14 de novembro de 1972 o índice ultrapassou a barreira dos mil pontos pela primeira vez.\\nOs anos 80 e 90 viram um rápido crescimento no índice DJIA, mas em meio a algumas perturbações. A maior queda percentual em um único dia desde 1914 ocorreu em 19 de outubro de 1987, quando o índice caiu 22,61%, dia que ficou conhecido como Black Monday.\\nEm 21 de novembro de 1995 o índice fechou acima dos 5 mil pontos pela primeira vez e em 03 de maio de 1999 o índice ultrapassou a marca dos 10 mil pontos.\\nO índice DJIA sobe sofrendo algumas quedas importantes como logo após o 11 de setembro de 2001. Em 19 de julho de 2007, o índice ultrapassa a marca dos 14 mil pontos.\\nEm julho de 2008 a alta no preço do petróleo inicia uma queda substancial no preço das ações e o índice DJIA fecha abaixo dos 11 mil.\\nEm 15 de setembro de 2008 o banco de investimento Lehman Brothers pede concordata mostrando que o período de baixa perspectiva de mercado esconde uma crise financeira de grandes dimensões. Uma série de pacotes de ajuda econômica como o Plano de resgate econômico de 2008 são propostos tentando amenizar a crise e evitar a quebra dos grandes bancos e corretoras dos Estados Unidos, porém não evitam a crescente volatilidade do mercado. Em 29 de setembro de 2008 uma queda de 777,68 pontos marcou a maior queda em pontos em um único dia, o que representou uma queda do índice de 6,98%. \\nEm outubro de 2008 o índice DJIA caiu abaixo dos 10 mil e marcou vários recordes de volatilidade. Em 10 de outubro de 2008, apesar de ter sofrido uma queda de apenas 128 pontos, o índice oscilou mais de mil pontos pela primeira vez na história. Em 13 de outubro DJIA ganhou 936,42 pontos em um único dia marcando um novo recorde. Porém esses ganhos foram rapidamente consumidos nos dias seguintes como no dia 15 quando o DJIA perde 7,87% de seu valor, a maior queda percentual desde 1987.\\n\\nComposição[editar | editar código-fonte]\\nAs empresas que compõe o índice DJIA são ocasionalmente substituídas para acompanhar as mudanças do mercado. Quando isso acontece, um fator de escala é usado para ajustar os valores do índice para estes não sejam diretamente afetados pela mudança.\\nDe todas as empresas que compunham o índice DJIA inicial, somente General Electric permanece compondo o índice atualmente.\\nEm 1999 Intel e Microsoft começaram a compor o índice e se tornaram as primeiras duas empresas negociadas no NASDAQ a participarem da composição da DJIA. Posteriormente foram adicionadas mais duas empresas do NASDAQ: a Cisco e a Apple. Todas as outras empresas têm suas ações negociadas na Bolsa de Valores de Nova Iorque (New York Stock Exchange).\\nO índice Dow Jones Industrial Average é composto pelas seguintes empresas (situação em 18 de Junho de 2019).[1]\\n\\n\\n\\nEmpresa\\n\\nSector segundo o ICB\\n\\nLogo\\n\\nPeso no índice em\\xa0%\\n\\nData de entrada no índice\\n\\n\\n3M\\nIndústrias gerais\\n\\n5,91\\n01976-08-09 9 de agosto de 1976\\n\\n\\nAmerican Express\\nServiços financeiros\\n\\n2,92\\n01982-08-30 30 de agosto de 1982\\n\\n\\nApple\\nHardware & equipamento de alta tecnologia\\n\\n4,95\\n02015-03-18 18 de março de 2015\\n\\n\\nBoeing\\nAeroespacial e defesa\\n\\n5,56\\n01987-03-12 12 de março de 1987\\n\\n\\nCaterpillar\\nEngenharia industrial\\n\\n2,82\\n01991-05-06 6 de maio de 1991\\n\\n\\nChevron\\nProdução de petróleo e gás\\n\\n3,71\\n02008-02-19 19 de fevereiro de 2008\\n\\n\\nCisco\\nEmpresa de Telecomunicação\\n\\n1,01\\n02009-06-08 8 de junho de 2009\\n\\n\\nCoca-Cola\\nBebidas\\n\\n1,46\\n01987-03-12 12 de março de 1987\\n\\n\\nDuPont\\nQuímicos\\n\\n2,69\\n01935-11-20 20 de novembro de 1935\\n\\n\\nExxonMobil\\nProdução de petróleo e gás\\n\\n3,03\\n01928-10-01 1 de outubro de 1928\\n\\n\\nGeneral Electric\\nIndústria geral\\n\\n0,91\\n01907-11-07 7 de novembro de 1907\\n\\n\\nGoldman Sachs\\nServiços financeiros\\n\\n6,86\\n02013-09-23 23 de setembro de 2013\\n\\n\\nHome Depot\\nRetalho geral (Varejo geral)\\n\\n4,16\\n01999-11-01 1 de novembro de 1999\\n\\n\\nIBM\\nHardware & equipamento de alta tecnologia\\n\\n5,65\\n01979-06-29 29 de junho de 1979\\n\\n\\nIntel\\nHardware & equipamento de alta tecnologia\\n\\n1,10\\n01999-11-01 1 de novembro de 1999\\n\\n\\nJohnson & Johnson\\nFarmacêuticas e biotecnologia\\n\\n3,59\\n01997-03-17 17 de março de 1997\\n\\n\\nJPMorgan Chase\\nBancos\\n\\n2,22\\n01991-05-06 6 de maio de 1991\\n\\n\\nMcDonald’s\\nFast food\\n\\n3,46\\n01985-10-30 30 de outubro de 1985\\n\\n\\nMerck & Co., Inc.\\nIndústria farmacêutica\\n\\n2,03\\n01979-06-29 29 de junho de 1979\\n\\n\\nMicrosoft\\nHardware/Software/Jogos/Entretenimento\\n\\n4,94\\n01999-11-01 1 de novembro de 1999\\n\\n\\nNike\\nBens de uso pessoal\\n\\n3,47\\n02013-09-23 23 de setembro de 2013\\n\\n\\nPfizer\\nFarmacêuticas e biotecnologia\\n\\n1,23\\n02004-04-08 8 de abril de 2004\\n\\n\\nProcter & Gamble\\nBens de uso pessoal\\n\\n2,98\\n01932-05-26 26 de maio de 1932\\n\\n\\nTravelers\\nSeguros de não vida\\n\\n3,91\\n02009-06-08 8 de junho de 2009\\n\\n\\nUnited Technologies\\nAeroespacial e defesa\\n\\n4,31\\n01939-03-14 14 de março de 1939\\n\\n\\nUnitedHealth\\nServiços e equipamentos de cuidados de saúde\\n\\n4,23\\n02012-09-24 24 de setembro de 2012\\n\\n\\nVerizon Communications\\nTelecomunicações fixas\\n\\n1,76\\n02004-04-08 8 de abril de 2004\\n\\n\\nVisa Inc.\\nServiços financeiros\\n\\n9,52\\n02013-09-23 23 de setembro de 2013\\n\\n\\nWalgreens\\nRetalho alimentar e de medicamentos\\n\\n\\n\\n\\n\\nWal-Mart\\nRetalho geral (Varejo geral)\\n\\n2,97\\n01997-03-17 17 de março de 1997\\n\\n\\nWalt Disney\\nMedia\\n\\n3,85\\n01991-05-06 6 de maio de 1991\\n\\n\\nCálculo[editar | editar código-fonte]\\nNo cálculo do índice DJIA, a soma dos preços das ações das 30 empresas é dividida por um divisor, o divisor Dow. Esse divisor é ajustado no caso de splits, spin-offs ou outras mudanças estruturais para assegurar que essas mudanças não vão alterar o valor do índice.\\nO divisor inicialmente usado foi o número de empresas, de forma que o índice DJIA era a simples média aritmética dos preços das ações. Hoje, após muitos ajustes, o divisor tem um valor menor que um, ou seja, o valor do índice hoje é maior que a soma dos preços das ações das empresas componentes. Isto é:\\n\\n\\n\\n\\n\\n\\nDJIA\\n\\n=\\n\\n\\n\\n∑\\np\\n\\nd\\n\\n\\n\\n\\n{\\\\displaystyle {\\\\text{DJIA}}={\\\\sum p \\\\over d}}\\n\\n\\nonde os p´s são os preços das ações das empresas que compõe o índice e d é o divisor Dow.\\nEventos como splits ou mudanças na lista das empresas que compõe o índice alteram o valor da soma das ações das empresas componentes. Nesses casos, para evitar descontinuidade no índice, o divisor Dow é atualizado de forma que as o valor do índice DJIA logo antes e depois do evento coincidam.\\n\\n\\n\\n\\n\\n\\nDJIA\\n\\n=\\n\\n\\n\\n∑\\n\\np\\n\\nold\\n\\n\\n\\n\\nd\\n\\nold\\n\\n\\n\\n\\n=\\n\\n\\n\\n∑\\n\\np\\n\\nnew\\n\\n\\n\\n\\nd\\n\\nnew\\n\\n\\n\\n\\n.\\n\\n\\n{\\\\displaystyle {\\\\text{DJIA}}={\\\\sum p_{\\\\text{old}} \\\\over d_{\\\\text{old}}}={\\\\sum p_{\\\\text{new}} \\\\over d_{\\\\text{new}}}.}\\n\\n\\nMarcos históricos[editar | editar código-fonte]\\nNo dia 12 de Janeiro de 1906 o índice Dow Jones superou pela primeira vez a marca dos 100 pontos, tendo fechado nos 100,25 pontos. Outros momentos relevantes na evolução do índice foram a passagem dos mil pontos em 1972 e a passagem dos 10 mil pontos em 1999.\\nNo quadro seguinte apresenta-se a lista dos vários marcos históricos atingidos pelo índice Dow Jones desde a sua criação.[2]\\n\\n\\n\\n\\n\\n\\nPrimeiro fechoacima de\\n\\nValor de fechoem pontos\\n\\nData\\n\\n\\n50\\n50,47\\n13-Mar-1899\\n\\n\\n100\\n100,77\\n22-Set-1916\\n\\n\\n500\\n500,24\\n12-Mar-1956\\n\\n\\n1 000\\n1 003,16\\n14-Nov-1972\\n\\n\\n1 500\\n1 511,70\\n11-Dez-1985\\n\\n\\n2 000\\n2 002,25\\n08-Jan-1987\\n\\n\\n2 500\\n2 510,04\\n17-Jul-1987\\n\\n\\n3 000\\n3 004,46\\n17-Abr-1991\\n\\n\\n3 500\\n3 500,03\\n19-Mai-1993\\n\\n\\n4 000\\n4 003,33\\n23-Fev-1995\\n\\n\\n4 500\\n4 510,69\\n16-Jun-1995\\n\\n\\n5 000\\n5 022,55\\n21-Nov-1995\\n\\n\\n6 000\\n6 010,00\\n14-Out-1996\\n\\n\\n7 000\\n7 022,44\\n13-Fev-1997\\n\\n\\n8 000\\n8 038,88\\n16-Jul-1997\\n\\n\\n9 000\\n9 033,23\\n06-Abr-1998\\n\\n\\n10 000\\n10 006,79\\n29-Mar-1999\\n\\n\\n\\n\\n\\nPrimeiro fechoacima de\\n\\nValor de fechoem pontos\\n\\nData\\n\\n\\n11 000\\n11 014,69\\n03-Mai-1999\\n\\n\\n12 000\\n12 011,73\\n19-Out-2006\\n\\n\\n13 000\\n13 089,89\\n25-Abr-2007\\n\\n\\n14 000\\n14 000,41\\n19-Jul-2007\\n\\n\\n15 000\\n15 056,20\\n07-Mai-2013\\n\\n\\n16 000\\n16 009,99\\n21-Nov-2013\\n\\n\\n17 000\\n17 068,26\\n03-Jul-2014\\n\\n\\n18 000\\n18 024,17\\n23-Dez-2014\\n\\n\\n19 000\\n19 043,19\\n22-Nov-2016\\n\\n\\n20 000\\n20 082,00\\n25-Jan-2017\\n\\n\\n21 000\\n21 113,67\\n01-Mar-2017\\n\\n\\n22 000\\n22 016,24\\n02-Ago-2017\\n\\n\\n23 000\\n23 157,60\\n18-Out-2017\\n\\n\\n24 000\\n24 272,35\\n30-Nov-2017\\n\\n\\n25 000\\n25 075,13\\n04-Jan-2018\\n\\n\\n26 000\\n26 115,65\\n17-Jan-2018\\n\\n\\n27 000\\n27 088,08\\n11-Jul-2019\\n\\n\\n\\nConclusão[editar | editar código-fonte]\\nO método de cálculo do DJIA não reflete o fato de que uma mudança de um dólar para uma ação de valor US$ 10 é muito mais significativa que uma mudança de um dólar para uma ação de valor US$ 100. Além desse fato, a composição do índice usando apenas 30 empresas leva alguns críticos a dizer que o índice DJIA não representa de forma precisa o comportamento geral do mercado.\\nApesar de todas essas imperfeições, o índice DJIA tem historicamente representado a performance da economia americana de forma bastante precisa e  continua sendo um dos mais observados indicadores do desempenho do mercado de ações.\\n\\nReferências\\n\\n↑ indexArb: Zusammensetzung\\n\\n↑ «DOW JONES INDUSTRIAL AVERAGE MILESTONES DJIA from 1896, Record High, Greatest Gains, Losses, Declines, Falls, Rises, 1896, Components, blue chips». www.finfacts.ie. Consultado em 6 de maio de 2021\\xa0\\n\\n\\nLigações externas[editar | editar código-fonte]\\nSítio oficial (em inglês)\\nvdeEmpresas no Índice Dow Jones da Bolsa de Valores de Nova IorqueAções atuais3M\\xa0· American Express\\xa0· Apple\\xa0· Boeing\\xa0· Caterpillar\\xa0· Chevron\\xa0· Cisco Systems\\xa0· The Coca-Cola Company\\xa0· DuPont\\xa0· ExxonMobil\\xa0· General Electric\\xa0· Goldman Sachs\\xa0· Home Depot\\xa0· Intel\\xa0· IBM\\xa0· Johnson & Johnson\\xa0· JPMorgan Chase \\xa0· McDonald\\'s\\xa0· Merck & Co.\\xa0· Microsoft\\xa0· Nike\\xa0· Pfizer\\xa0· Procter & Gamble\\xa0· The Travelers Companies\\xa0· UnitedHealth Group\\xa0· United Technologies\\xa0· Verizon\\xa0· Visa\\xa0· Wal-Mart\\xa0· The Walt Disney CompanyAções passadasAlcoa\\xa0· Altria Group\\xa0· American International Group \\xa0· American Tobacco Company\\xa0· AT&T\\xa0· Bank of America\\xa0· Bethlehem Steel\\xa0· Citigroup\\xa0· Colorado Fuel and Iron\\xa0· Eastman Kodak\\xa0· General Foods\\xa0· General Motors\\xa0· Goodyear Tire and Rubber Company\\xa0· Hewlett-Packard\\xa0· Honeywell\\xa0· International Paper\\xa0· Johns-Manville\\xa0· Kraft Foods\\xa0· Nash Motors\\xa0· Navistar International\\xa0· North American Company\\xa0· Owens-Illinois\\xa0· Sears, Roebuck and Company\\xa0· Union Carbide\\xa0· United States Rubber Company\\xa0· F. W. Woolworth Company\\n\\n\\nEste artigo  sobre uma empresa é um esboço.  Você pode ajudar a Wikipédia expandindo-o.vde\\n\\n\\n\\n\\n\\nObtida de \"https://pt.wikipedia.org/w/index.php?title=Dow_Jones_Industrial_Average&oldid=63536830\"'"
            ],
            "application/vnd.google.colaboratory.intrinsic+json": {
              "type": "string"
            }
          },
          "metadata": {},
          "execution_count": 5
        }
      ]
    },
    {
      "cell_type": "code",
      "source": [
        "def trata_html(input):\n",
        "    return \" \".join(input.split()).replace('> <', '><')\n",
        "trata_html(texto_da_bolsa)"
      ],
      "metadata": {
        "colab": {
          "base_uri": "https://localhost:8080/",
          "height": 142
        },
        "id": "QFDxjaP8yx2m",
        "outputId": "4e0c60e3-78e4-49df-893e-c919155ea206"
      },
      "execution_count": 6,
      "outputs": [
        {
          "output_type": "execute_result",
          "data": {
            "text/plain": [
              "'Índice Dow Jones. Dow Jones Industrial Average, também conhecido como DJIA, INDP, Dow 30 ou Dow Jones, é um índice criado em 1896 pelo editor do The Wall Street Journal e fundador do Dow Jones & Company, Charles Dow. É o segundo mais antigo índice dos Estados Unidos, depois do Dow Jones Transportation Average (DJTA) - (\"Índice de transporte Dow Jones\"). O índice Dow Jones Industrial Average (DJIA) é ao lado do Nasdaq Composite e do S&P 500 um dos principais indicadores dos movimentos do mercado norte-americano. Dos três indicadores, DJIA é o mais largamente publicado e discutido. O cálculo deste índice é bastante simples e é baseado na cotação das ações de 30 das maiores e mais importantes empresas dos Estados Unidos. Como o índice não é calculado pela Bolsa de Valores de Nova Iorque (New York Stock Exchange), seus componentes são escolhidos pelos editores do jornal financeiro norte-americano The Wall Street Journal. Não existe nenhum critério pré-determinado, a não ser que os componentes sejam companhias norte-americanas líderes em seus segmentos de mercado. Histórico[editar | editar código-fonte] Quando foi criado em 1896, o índice DJIA representava a média simples de 12 empresas americanas de grande importância e seu valor inicial foi de 40,94 pontos. Em 30 de julho de 1914, quando a Bolsa de Valores de Nova York fechou por quatro meses em decorrência da I Guerra Mundial o índice DJIA ficou estagnado em 71,42 pontos. No momento em que a bolsa reabriu em 12 de dezembro do mesmo ano, o índice sofreu uma queda de 24,39%, fechando com o valor de 54 pontos. Em 1916 o número de empresas componentes do índice foi aumentado para vinte. Finalmente o número de empresas componentes foi aumentado para trinta em 1928 em um momento em que as ações estavam se aproximando de seu valor máximo, logo antes da crise de 1929. Com a crise de 1929 e a grande depressão que se seguiu, o índice que chegou a valer 381,17 pontos em 03 de setembro de 1929 retornou ao seu ponto de partida, chegando ao valor mínimo de 40,56 e fechando em 41,22 em 08 de julho de 1932. O maior ganho percentual do índice em um único dia, de 14,34%, ocorreu em 15 de março de 1933 no período de baixa perspectiva de mercado na depressão que seguiu a crise de 1929. Após a II Guerra Mundial, um período de alta perspectiva de mercado levou o índice a ultrapassar o valor de 381,17 pontos anterior à crise de 29 em 1954 que continuou subindo até 1966. Em 14 de novembro de 1972 o índice ultrapassou a barreira dos mil pontos pela primeira vez. Os anos 80 e 90 viram um rápido crescimento no índice DJIA, mas em meio a algumas perturbações. A maior queda percentual em um único dia desde 1914 ocorreu em 19 de outubro de 1987, quando o índice caiu 22,61%, dia que ficou conhecido como Black Monday. Em 21 de novembro de 1995 o índice fechou acima dos 5 mil pontos pela primeira vez e em 03 de maio de 1999 o índice ultrapassou a marca dos 10 mil pontos. O índice DJIA sobe sofrendo algumas quedas importantes como logo após o 11 de setembro de 2001. Em 19 de julho de 2007, o índice ultrapassa a marca dos 14 mil pontos. Em julho de 2008 a alta no preço do petróleo inicia uma queda substancial no preço das ações e o índice DJIA fecha abaixo dos 11 mil. Em 15 de setembro de 2008 o banco de investimento Lehman Brothers pede concordata mostrando que o período de baixa perspectiva de mercado esconde uma crise financeira de grandes dimensões. Uma série de pacotes de ajuda econômica como o Plano de resgate econômico de 2008 são propostos tentando amenizar a crise e evitar a quebra dos grandes bancos e corretoras dos Estados Unidos, porém não evitam a crescente volatilidade do mercado. Em 29 de setembro de 2008 uma queda de 777,68 pontos marcou a maior queda em pontos em um único dia, o que representou uma queda do índice de 6,98%. Em outubro de 2008 o índice DJIA caiu abaixo dos 10 mil e marcou vários recordes de volatilidade. Em 10 de outubro de 2008, apesar de ter sofrido uma queda de apenas 128 pontos, o índice oscilou mais de mil pontos pela primeira vez na história. Em 13 de outubro DJIA ganhou 936,42 pontos em um único dia marcando um novo recorde. Porém esses ganhos foram rapidamente consumidos nos dias seguintes como no dia 15 quando o DJIA perde 7,87% de seu valor, a maior queda percentual desde 1987. Composição[editar | editar código-fonte] As empresas que compõe o índice DJIA são ocasionalmente substituídas para acompanhar as mudanças do mercado. Quando isso acontece, um fator de escala é usado para ajustar os valores do índice para estes não sejam diretamente afetados pela mudança. De todas as empresas que compunham o índice DJIA inicial, somente General Electric permanece compondo o índice atualmente. Em 1999 Intel e Microsoft começaram a compor o índice e se tornaram as primeiras duas empresas negociadas no NASDAQ a participarem da composição da DJIA. Posteriormente foram adicionadas mais duas empresas do NASDAQ: a Cisco e a Apple. Todas as outras empresas têm suas ações negociadas na Bolsa de Valores de Nova Iorque (New York Stock Exchange). O índice Dow Jones Industrial Average é composto pelas seguintes empresas (situação em 18 de Junho de 2019).[1] Empresa Sector segundo o ICB Logo Peso no índice em % Data de entrada no índice 3M Indústrias gerais 5,91 01976-08-09 9 de agosto de 1976 American Express Serviços financeiros 2,92 01982-08-30 30 de agosto de 1982 Apple Hardware & equipamento de alta tecnologia 4,95 02015-03-18 18 de março de 2015 Boeing Aeroespacial e defesa 5,56 01987-03-12 12 de março de 1987 Caterpillar Engenharia industrial 2,82 01991-05-06 6 de maio de 1991 Chevron Produção de petróleo e gás 3,71 02008-02-19 19 de fevereiro de 2008 Cisco Empresa de Telecomunicação 1,01 02009-06-08 8 de junho de 2009 Coca-Cola Bebidas 1,46 01987-03-12 12 de março de 1987 DuPont Químicos 2,69 01935-11-20 20 de novembro de 1935 ExxonMobil Produção de petróleo e gás 3,03 01928-10-01 1 de outubro de 1928 General Electric Indústria geral 0,91 01907-11-07 7 de novembro de 1907 Goldman Sachs Serviços financeiros 6,86 02013-09-23 23 de setembro de 2013 Home Depot Retalho geral (Varejo geral) 4,16 01999-11-01 1 de novembro de 1999 IBM Hardware & equipamento de alta tecnologia 5,65 01979-06-29 29 de junho de 1979 Intel Hardware & equipamento de alta tecnologia 1,10 01999-11-01 1 de novembro de 1999 Johnson & Johnson Farmacêuticas e biotecnologia 3,59 01997-03-17 17 de março de 1997 JPMorgan Chase Bancos 2,22 01991-05-06 6 de maio de 1991 McDonald’s Fast food 3,46 01985-10-30 30 de outubro de 1985 Merck & Co., Inc. Indústria farmacêutica 2,03 01979-06-29 29 de junho de 1979 Microsoft Hardware/Software/Jogos/Entretenimento 4,94 01999-11-01 1 de novembro de 1999 Nike Bens de uso pessoal 3,47 02013-09-23 23 de setembro de 2013 Pfizer Farmacêuticas e biotecnologia 1,23 02004-04-08 8 de abril de 2004 Procter & Gamble Bens de uso pessoal 2,98 01932-05-26 26 de maio de 1932 Travelers Seguros de não vida 3,91 02009-06-08 8 de junho de 2009 United Technologies Aeroespacial e defesa 4,31 01939-03-14 14 de março de 1939 UnitedHealth Serviços e equipamentos de cuidados de saúde 4,23 02012-09-24 24 de setembro de 2012 Verizon Communications Telecomunicações fixas 1,76 02004-04-08 8 de abril de 2004 Visa Inc. Serviços financeiros 9,52 02013-09-23 23 de setembro de 2013 Walgreens Retalho alimentar e de medicamentos Wal-Mart Retalho geral (Varejo geral) 2,97 01997-03-17 17 de março de 1997 Walt Disney Media 3,85 01991-05-06 6 de maio de 1991 Cálculo[editar | editar código-fonte] No cálculo do índice DJIA, a soma dos preços das ações das 30 empresas é dividida por um divisor, o divisor Dow. Esse divisor é ajustado no caso de splits, spin-offs ou outras mudanças estruturais para assegurar que essas mudanças não vão alterar o valor do índice. O divisor inicialmente usado foi o número de empresas, de forma que o índice DJIA era a simples média aritmética dos preços das ações. Hoje, após muitos ajustes, o divisor tem um valor menor que um, ou seja, o valor do índice hoje é maior que a soma dos preços das ações das empresas componentes. Isto é: DJIA = ∑ p d {\\\\displaystyle {\\\\text{DJIA}}={\\\\sum p \\\\over d}} onde os p´s são os preços das ações das empresas que compõe o índice e d é o divisor Dow. Eventos como splits ou mudanças na lista das empresas que compõe o índice alteram o valor da soma das ações das empresas componentes. Nesses casos, para evitar descontinuidade no índice, o divisor Dow é atualizado de forma que as o valor do índice DJIA logo antes e depois do evento coincidam. DJIA = ∑ p old d old = ∑ p new d new . {\\\\displaystyle {\\\\text{DJIA}}={\\\\sum p_{\\\\text{old}} \\\\over d_{\\\\text{old}}}={\\\\sum p_{\\\\text{new}} \\\\over d_{\\\\text{new}}}.} Marcos históricos[editar | editar código-fonte] No dia 12 de Janeiro de 1906 o índice Dow Jones superou pela primeira vez a marca dos 100 pontos, tendo fechado nos 100,25 pontos. Outros momentos relevantes na evolução do índice foram a passagem dos mil pontos em 1972 e a passagem dos 10 mil pontos em 1999. No quadro seguinte apresenta-se a lista dos vários marcos históricos atingidos pelo índice Dow Jones desde a sua criação.[2] Primeiro fechoacima de Valor de fechoem pontos Data 50 50,47 13-Mar-1899 100 100,77 22-Set-1916 500 500,24 12-Mar-1956 1 000 1 003,16 14-Nov-1972 1 500 1 511,70 11-Dez-1985 2 000 2 002,25 08-Jan-1987 2 500 2 510,04 17-Jul-1987 3 000 3 004,46 17-Abr-1991 3 500 3 500,03 19-Mai-1993 4 000 4 003,33 23-Fev-1995 4 500 4 510,69 16-Jun-1995 5 000 5 022,55 21-Nov-1995 6 000 6 010,00 14-Out-1996 7 000 7 022,44 13-Fev-1997 8 000 8 038,88 16-Jul-1997 9 000 9 033,23 06-Abr-1998 10 000 10 006,79 29-Mar-1999 Primeiro fechoacima de Valor de fechoem pontos Data 11 000 11 014,69 03-Mai-1999 12 000 12 011,73 19-Out-2006 13 000 13 089,89 25-Abr-2007 14 000 14 000,41 19-Jul-2007 15 000 15 056,20 07-Mai-2013 16 000 16 009,99 21-Nov-2013 17 000 17 068,26 03-Jul-2014 18 000 18 024,17 23-Dez-2014 19 000 19 043,19 22-Nov-2016 20 000 20 082,00 25-Jan-2017 21 000 21 113,67 01-Mar-2017 22 000 22 016,24 02-Ago-2017 23 000 23 157,60 18-Out-2017 24 000 24 272,35 30-Nov-2017 25 000 25 075,13 04-Jan-2018 26 000 26 115,65 17-Jan-2018 27 000 27 088,08 11-Jul-2019 Conclusão[editar | editar código-fonte] O método de cálculo do DJIA não reflete o fato de que uma mudança de um dólar para uma ação de valor US$ 10 é muito mais significativa que uma mudança de um dólar para uma ação de valor US$ 100. Além desse fato, a composição do índice usando apenas 30 empresas leva alguns críticos a dizer que o índice DJIA não representa de forma precisa o comportamento geral do mercado. Apesar de todas essas imperfeições, o índice DJIA tem historicamente representado a performance da economia americana de forma bastante precisa e continua sendo um dos mais observados indicadores do desempenho do mercado de ações. Referências ↑ indexArb: Zusammensetzung ↑ «DOW JONES INDUSTRIAL AVERAGE MILESTONES DJIA from 1896, Record High, Greatest Gains, Losses, Declines, Falls, Rises, 1896, Components, blue chips». www.finfacts.ie. Consultado em 6 de maio de 2021 Ligações externas[editar | editar código-fonte] Sítio oficial (em inglês) vdeEmpresas no Índice Dow Jones da Bolsa de Valores de Nova IorqueAções atuais3M · American Express · Apple · Boeing · Caterpillar · Chevron · Cisco Systems · The Coca-Cola Company · DuPont · ExxonMobil · General Electric · Goldman Sachs · Home Depot · Intel · IBM · Johnson & Johnson · JPMorgan Chase · McDonald\\'s · Merck & Co. · Microsoft · Nike · Pfizer · Procter & Gamble · The Travelers Companies · UnitedHealth Group · United Technologies · Verizon · Visa · Wal-Mart · The Walt Disney CompanyAções passadasAlcoa · Altria Group · American International Group · American Tobacco Company · AT&T · Bank of America · Bethlehem Steel · Citigroup · Colorado Fuel and Iron · Eastman Kodak · General Foods · General Motors · Goodyear Tire and Rubber Company · Hewlett-Packard · Honeywell · International Paper · Johns-Manville · Kraft Foods · Nash Motors · Navistar International · North American Company · Owens-Illinois · Sears, Roebuck and Company · Union Carbide · United States Rubber Company · F. W. Woolworth Company Este artigo sobre uma empresa é um esboço. Você pode ajudar a Wikipédia expandindo-o.vde Obtida de \"https://pt.wikipedia.org/w/index.php?title=Dow_Jones_Industrial_Average&oldid=63536830\"'"
            ],
            "application/vnd.google.colaboratory.intrinsic+json": {
              "type": "string"
            }
          },
          "metadata": {},
          "execution_count": 6
        }
      ]
    },
    {
      "cell_type": "code",
      "source": [
        "nome_da_bolsa = cartao_bolsa.find('div', {'class':'pKBk1e'}).getText()\n",
        "nome_da_bolsa"
      ],
      "metadata": {
        "colab": {
          "base_uri": "https://localhost:8080/",
          "height": 35
        },
        "id": "S6Ue1KNQpTSO",
        "outputId": "ef4007ee-3d70-491e-97b1-260b9f28b435"
      },
      "execution_count": 7,
      "outputs": [
        {
          "output_type": "execute_result",
          "data": {
            "text/plain": [
              "'Dow Jones'"
            ],
            "application/vnd.google.colaboratory.intrinsic+json": {
              "type": "string"
            }
          },
          "metadata": {},
          "execution_count": 7
        }
      ]
    },
    {
      "cell_type": "code",
      "source": [
        "pontuacao_acumulada = cartao_bolsa.find('div', {'class':'YMlKec'}).getText()\n",
        "pontuacao_acumulada"
      ],
      "metadata": {
        "colab": {
          "base_uri": "https://localhost:8080/",
          "height": 35
        },
        "id": "cKXd6FydlrIr",
        "outputId": "616df342-a616-482f-f17c-68c238b1ecab"
      },
      "execution_count": 8,
      "outputs": [
        {
          "output_type": "execute_result",
          "data": {
            "text/plain": [
              "'34.589,77'"
            ],
            "application/vnd.google.colaboratory.intrinsic+json": {
              "type": "string"
            }
          },
          "metadata": {},
          "execution_count": 8
        }
      ]
    },
    {
      "cell_type": "code",
      "source": [
        "variacao_dia_porcentagem = cartao_bolsa.find('div', {'class':'JwB6zf V7hZne'}).getText()\n",
        "variacao_dia_porcentagem"
      ],
      "metadata": {
        "colab": {
          "base_uri": "https://localhost:8080/",
          "height": 35
        },
        "id": "qlES7FRirY3A",
        "outputId": "fe573b1c-4270-433e-9863-05847895d92d"
      },
      "execution_count": 9,
      "outputs": [
        {
          "output_type": "execute_result",
          "data": {
            "text/plain": [
              "'+2,18%'"
            ],
            "application/vnd.google.colaboratory.intrinsic+json": {
              "type": "string"
            }
          },
          "metadata": {},
          "execution_count": 9
        }
      ]
    },
    {
      "cell_type": "code",
      "source": [
        "variacao_dia = cartao_bolsa.find('div', {'class':'BAftM'}).getText()\n",
        "variacao_dia"
      ],
      "metadata": {
        "colab": {
          "base_uri": "https://localhost:8080/",
          "height": 35
        },
        "id": "56RrT58GsE_J",
        "outputId": "d27f14f6-f5c9-4680-88ab-e5b615e82770"
      },
      "execution_count": 10,
      "outputs": [
        {
          "output_type": "execute_result",
          "data": {
            "text/plain": [
              "'+737,24'"
            ],
            "application/vnd.google.colaboratory.intrinsic+json": {
              "type": "string"
            }
          },
          "metadata": {},
          "execution_count": 10
        }
      ]
    },
    {
      "cell_type": "code",
      "source": [
        "url3 = 'https://www.google.com/finance/quote/.DJI:INDEXDJX'\n",
        "response3 = urlopen(url3)\n",
        "html3 = response3.read().decode('utf-8')\n",
        "pagina2 = BeautifulSoup(html3, 'html.parser')\n",
        "fechamento_dia_anterior = pagina2.find('div', {'class':'P6K39c'}).getText()"
      ],
      "metadata": {
        "id": "53ddk_zC3TsY"
      },
      "execution_count": 11,
      "outputs": []
    },
    {
      "cell_type": "markdown",
      "source": [
        "##Armazenando os dados coletados"
      ],
      "metadata": {
        "id": "Pns6rB5Ysv_3"
      }
    },
    {
      "cell_type": "code",
      "source": [
        "card = {}\n",
        "card['nome_da_bolsa'] = cartao_bolsa.find('div', {'class':'pKBk1e'}).getText()\n",
        "card['pontuacao_acumulada'] = cartao_bolsa.find('div', {'class':'YMlKec'}).getText()\n",
        "card['variacao_dia_porcentagem'] = cartao_bolsa.find('div', {'class':'JwB6zf V7hZne'}).getText()\n",
        "card['variacao_dia'] = cartao_bolsa.find('div', {'class':'BAftM'}).getText()\n",
        "card['fechamento_dia_anterior'] = pagina2.find('div', {'class':'P6K39c'}).getText()\n",
        "card"
      ],
      "metadata": {
        "colab": {
          "base_uri": "https://localhost:8080/"
        },
        "id": "eXbH3bdVhohT",
        "outputId": "e40ba9ab-cd35-46d3-f9b7-d3a72db12f41"
      },
      "execution_count": 13,
      "outputs": [
        {
          "output_type": "execute_result",
          "data": {
            "text/plain": [
              "{'nome_da_bolsa': 'Dow Jones',\n",
              " 'pontuacao_acumulada': '34.589,77',\n",
              " 'variacao_dia_porcentagem': '+2,18%',\n",
              " 'variacao_dia': '+737,24',\n",
              " 'fechamento_dia_anterior': '33,852.53'}"
            ]
          },
          "metadata": {},
          "execution_count": 13
        }
      ]
    },
    {
      "cell_type": "markdown",
      "source": [
        "#Convertendo em DataFrame (Pandas)"
      ],
      "metadata": {
        "id": "kzpoLJXg58wV"
      }
    },
    {
      "cell_type": "code",
      "source": [
        "import pandas as pd"
      ],
      "metadata": {
        "id": "L4tmmEqv2Mfa"
      },
      "execution_count": 14,
      "outputs": []
    },
    {
      "cell_type": "code",
      "source": [
        "pd.DataFrame.from_dict(card, orient='index').T"
      ],
      "metadata": {
        "colab": {
          "base_uri": "https://localhost:8080/",
          "height": 81
        },
        "id": "4QR5_NVa-J18",
        "outputId": "b32cc0ae-0fa0-4da2-ad99-9522826c9309"
      },
      "execution_count": 15,
      "outputs": [
        {
          "output_type": "execute_result",
          "data": {
            "text/plain": [
              "  nome_da_bolsa pontuacao_acumulada variacao_dia_porcentagem variacao_dia  \\\n",
              "0     Dow Jones           34.589,77                   +2,18%      +737,24   \n",
              "\n",
              "  fechamento_dia_anterior  \n",
              "0               33,852.53  "
            ],
            "text/html": [
              "\n",
              "  <div id=\"df-96fc0929-9b03-495e-927c-2f6df69d8b08\">\n",
              "    <div class=\"colab-df-container\">\n",
              "      <div>\n",
              "<style scoped>\n",
              "    .dataframe tbody tr th:only-of-type {\n",
              "        vertical-align: middle;\n",
              "    }\n",
              "\n",
              "    .dataframe tbody tr th {\n",
              "        vertical-align: top;\n",
              "    }\n",
              "\n",
              "    .dataframe thead th {\n",
              "        text-align: right;\n",
              "    }\n",
              "</style>\n",
              "<table border=\"1\" class=\"dataframe\">\n",
              "  <thead>\n",
              "    <tr style=\"text-align: right;\">\n",
              "      <th></th>\n",
              "      <th>nome_da_bolsa</th>\n",
              "      <th>pontuacao_acumulada</th>\n",
              "      <th>variacao_dia_porcentagem</th>\n",
              "      <th>variacao_dia</th>\n",
              "      <th>fechamento_dia_anterior</th>\n",
              "    </tr>\n",
              "  </thead>\n",
              "  <tbody>\n",
              "    <tr>\n",
              "      <th>0</th>\n",
              "      <td>Dow Jones</td>\n",
              "      <td>34.589,77</td>\n",
              "      <td>+2,18%</td>\n",
              "      <td>+737,24</td>\n",
              "      <td>33,852.53</td>\n",
              "    </tr>\n",
              "  </tbody>\n",
              "</table>\n",
              "</div>\n",
              "      <button class=\"colab-df-convert\" onclick=\"convertToInteractive('df-96fc0929-9b03-495e-927c-2f6df69d8b08')\"\n",
              "              title=\"Convert this dataframe to an interactive table.\"\n",
              "              style=\"display:none;\">\n",
              "        \n",
              "  <svg xmlns=\"http://www.w3.org/2000/svg\" height=\"24px\"viewBox=\"0 0 24 24\"\n",
              "       width=\"24px\">\n",
              "    <path d=\"M0 0h24v24H0V0z\" fill=\"none\"/>\n",
              "    <path d=\"M18.56 5.44l.94 2.06.94-2.06 2.06-.94-2.06-.94-.94-2.06-.94 2.06-2.06.94zm-11 1L8.5 8.5l.94-2.06 2.06-.94-2.06-.94L8.5 2.5l-.94 2.06-2.06.94zm10 10l.94 2.06.94-2.06 2.06-.94-2.06-.94-.94-2.06-.94 2.06-2.06.94z\"/><path d=\"M17.41 7.96l-1.37-1.37c-.4-.4-.92-.59-1.43-.59-.52 0-1.04.2-1.43.59L10.3 9.45l-7.72 7.72c-.78.78-.78 2.05 0 2.83L4 21.41c.39.39.9.59 1.41.59.51 0 1.02-.2 1.41-.59l7.78-7.78 2.81-2.81c.8-.78.8-2.07 0-2.86zM5.41 20L4 18.59l7.72-7.72 1.47 1.35L5.41 20z\"/>\n",
              "  </svg>\n",
              "      </button>\n",
              "      \n",
              "  <style>\n",
              "    .colab-df-container {\n",
              "      display:flex;\n",
              "      flex-wrap:wrap;\n",
              "      gap: 12px;\n",
              "    }\n",
              "\n",
              "    .colab-df-convert {\n",
              "      background-color: #E8F0FE;\n",
              "      border: none;\n",
              "      border-radius: 50%;\n",
              "      cursor: pointer;\n",
              "      display: none;\n",
              "      fill: #1967D2;\n",
              "      height: 32px;\n",
              "      padding: 0 0 0 0;\n",
              "      width: 32px;\n",
              "    }\n",
              "\n",
              "    .colab-df-convert:hover {\n",
              "      background-color: #E2EBFA;\n",
              "      box-shadow: 0px 1px 2px rgba(60, 64, 67, 0.3), 0px 1px 3px 1px rgba(60, 64, 67, 0.15);\n",
              "      fill: #174EA6;\n",
              "    }\n",
              "\n",
              "    [theme=dark] .colab-df-convert {\n",
              "      background-color: #3B4455;\n",
              "      fill: #D2E3FC;\n",
              "    }\n",
              "\n",
              "    [theme=dark] .colab-df-convert:hover {\n",
              "      background-color: #434B5C;\n",
              "      box-shadow: 0px 1px 3px 1px rgba(0, 0, 0, 0.15);\n",
              "      filter: drop-shadow(0px 1px 2px rgba(0, 0, 0, 0.3));\n",
              "      fill: #FFFFFF;\n",
              "    }\n",
              "  </style>\n",
              "\n",
              "      <script>\n",
              "        const buttonEl =\n",
              "          document.querySelector('#df-96fc0929-9b03-495e-927c-2f6df69d8b08 button.colab-df-convert');\n",
              "        buttonEl.style.display =\n",
              "          google.colab.kernel.accessAllowed ? 'block' : 'none';\n",
              "\n",
              "        async function convertToInteractive(key) {\n",
              "          const element = document.querySelector('#df-96fc0929-9b03-495e-927c-2f6df69d8b08');\n",
              "          const dataTable =\n",
              "            await google.colab.kernel.invokeFunction('convertToInteractive',\n",
              "                                                     [key], {});\n",
              "          if (!dataTable) return;\n",
              "\n",
              "          const docLinkHtml = 'Like what you see? Visit the ' +\n",
              "            '<a target=\"_blank\" href=https://colab.research.google.com/notebooks/data_table.ipynb>data table notebook</a>'\n",
              "            + ' to learn more about interactive tables.';\n",
              "          element.innerHTML = '';\n",
              "          dataTable['output_type'] = 'display_data';\n",
              "          await google.colab.output.renderOutput(dataTable, element);\n",
              "          const docLink = document.createElement('div');\n",
              "          docLink.innerHTML = docLinkHtml;\n",
              "          element.appendChild(docLink);\n",
              "        }\n",
              "      </script>\n",
              "    </div>\n",
              "  </div>\n",
              "  "
            ]
          },
          "metadata": {},
          "execution_count": 15
        }
      ]
    },
    {
      "cell_type": "markdown",
      "source": [
        "DataFrame criado, agora é possível trabalhar com as ferramentas do Pandas para analisar os dados coletados."
      ],
      "metadata": {
        "id": "4Q-mTkSf_8Tw"
      }
    }
  ]
}